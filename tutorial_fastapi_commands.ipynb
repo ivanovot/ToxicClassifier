{
 "cells": [
  {
   "cell_type": "markdown",
   "metadata": {},
   "source": [
    "# Туториал по использованию API\n",
    "В этом ноутбуке мы создадим и протестируем простой API с использованием FastAPI.\n",
    "Мы будем использовать код, который можно запускать прямо здесь, в ноутбуке."
   ]
  },
  {
   "cell_type": "markdown",
   "metadata": {},
   "source": [
    "## Шаг 1: Установка необходимых библиотек\n",
    "Убедитесь, что у вас установлены FastAPI и Uvicorn. Если они не установлены, выполните следующую команду в терминале:\n",
    "```bash\n",
    "pip install fastapi uvicorn\n",
    "```\n"
   ]
  },
  {
   "cell_type": "markdown",
   "metadata": {},
   "source": [
    "## Шаг 2: Запуск FastAPI\n",
    "Создайте файл `main.py` с кодом для API и запустите его в терминале:\n",
    "```bash\n",
    "uvicorn main:app --reload\n",
    "```\n",
    "После этого API будет доступен по адресу http://127.0.0.1:8000/."
   ]
  },
  {
   "cell_type": "markdown",
   "metadata": {},
   "source": [
    "## Шаг 3: Работа с API\n",
    "Теперь мы можем отправлять запросы к нашему API прямо из этого ноутбука.\n",
    "Ниже приведен код для отправки GET-запросов к API."
   ]
  },
  {
   "cell_type": "code",
   "execution_count": null,
   "metadata": {
    "collapsed": false
   },
   "outputs": [
    {
     "name": "stdout",
     "output_type": "stream",
     "text": [
      "Результат для запроса:\n",
      "\"Посмотрел новый сериал, и он оказался очень увлекательным.\"\n",
      "Оценка: 0\n",
      "\n",
      "Результат для запроса:\n",
      "\"Не хочу больше тебя видеть в нашем сообществе.\"\n",
      "Оценка: 1\n",
      "\n"
     ]
    }
   ],
   "source": [
    "# Импортируем необходимые библиотеки\n",
    "import requests\n",
    "\n",
    "# Функция для отправки GET-запроса к API\n",
    "def make_request(text):\n",
    "    response = requests.get(\"http://127.0.0.1:8000/\", params={'text': text})\n",
    "    return response.json()\n",
    "\n",
    "# Примеры запросов\n",
    "text_example_1 = \"Посмотрел новый сериал, и он оказался очень увлекательным.\"\n",
    "text_example_2 = \"Не хочу больше тебя видеть в нашем сообществе.\"\n",
    "\n",
    "# Отправляем запросы к API\n",
    "result_1 = make_request(text_example_1)\n",
    "result_2 = make_request(text_example_2)\n",
    "\n",
    "# Вывод результатов в более красивом формате\n",
    "print(f\"Результат для запроса:\\n\\\"{text_example_1}\\\"\\nОценка: {result_1}\\n\")\n",
    "print(f\"Результат для запроса:\\n\\\"{text_example_2}\\\"\\nОценка: {result_2}\\n\")"
   ]
  },
  {
   "cell_type": "markdown",
   "metadata": {},
   "source": [
    "## Результаты запросов\n",
    "- 0 - означает что модель не видит токсичности в тексте\n",
    "- 1 - модель считает этот коментарий токсичным"
   ]
  }
 ],
 "metadata": {
  "kernelspec": {
   "display_name": "venv",
   "language": "python",
   "name": "python3"
  },
  "language_info": {
   "codemirror_mode": {
    "name": "ipython",
    "version": 3
   },
   "file_extension": ".py",
   "mimetype": "text/x-python",
   "name": "python",
   "nbconvert_exporter": "python",
   "pygments_lexer": "ipython3",
   "version": "3.12.4"
  }
 },
 "nbformat": 4,
 "nbformat_minor": 4
}
